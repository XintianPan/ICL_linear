{
 "cells": [
  {
   "cell_type": "markdown",
   "id": "fe1e2ed7-725d-4c6b-a139-2cd513b7a968",
   "metadata": {},
   "source": [
    "# In-Context Learning Linear Regression -- Try One-Layer TF: Multi-task case\n",
    "\n",
    "**Authors: Xintian Pan, Jianliang He, Siyu Chen, Zhuoran Yang** \n",
    "\n",
    "This is the code for training one-layer Multi-Head SoftMax Attention to learn multi-task in-context linear regression. The transformer model consists of only a single Multi-Head Attention layer. \n",
    "\n",
    "## TL;DR\n",
    "Suppose we have $N$ different icl linear tasks. The number of attention heads is $H$ In the experiment we discover that:\n",
    "- If $2 < H < 2 * N$. Superpostion occurs.\n",
    "- If $H > 2 * N$. Each active head will learn exactly one task."
   ]
  },
  {
   "cell_type": "markdown",
   "id": "30f223bd-364e-4f9e-a3d0-60e7bf8a3bb7",
   "metadata": {},
   "source": [
    "**Install necessary packages and check if we use GPU**"
   ]
  },
  {
   "cell_type": "code",
   "execution_count": 1,
   "id": "7811d5bb-39da-473a-913e-f82369d36e3e",
   "metadata": {},
   "outputs": [
    {
     "name": "stdout",
     "output_type": "stream",
     "text": [
      "GPU is available.\n",
      "Using device: NVIDIA GeForce RTX 4090\n"
     ]
    }
   ],
   "source": [
    "import torch\n",
    "import torch.nn as nn\n",
    "import torch.optim as optim\n",
    "from typing import Optional\n",
    "\n",
    "if torch.cuda.is_available():\n",
    "    device_name = torch.cuda.get_device_name(0)\n",
    "    device_message = f\"GPU is available.\\nUsing device: {device_name}\"\n",
    "else:\n",
    "    device_message = \"GPU is not available. Using CPU.\"\n",
    "    \n",
    "print(device_message)\n",
    "\n",
    "\n",
    "seed = 1024\n",
    "torch.manual_seed(seed)\n",
    "\n",
    "# If you are using CUDA\n",
    "if torch.cuda.is_available():\n",
    "    torch.cuda.manual_seed(seed)"
   ]
  },
  {
   "cell_type": "markdown",
   "id": "da6fcfd5-9077-4379-b17c-40af5829b03c",
   "metadata": {},
   "source": [
    "## Data Sampling Setting\n",
    "In our data sampling setting, $N = 2$, meaning that our model will learn $2$ tasks.\n",
    "\n",
    "Here we assume the input of data is structured as in-context example sequence $Z$ and query token $z_q$ where\n",
    "\n",
    "$$\n",
    "    Z = \\begin{bmatrix}x_1 & x_2 & \\dots & x_L \\\\ y_{11} & y_{21} & \\dots &y_{L1} \\\\ y_{12} & y_{22} & \\dots &y_{L2}\\end{bmatrix}, z_q = \\begin{bmatrix}x_q \\\\ 0 \\\\ 0\\end{bmatrix}\n",
    "$$\n",
    "\n",
    "Where $x \\in \\mathbb{R}^d, y \\in \\mathbb{R}$.\n",
    "\n",
    "Data is sampled by following step:\n",
    "1. Sample $x_1,x_2,\\dots,x_L\\overset{\\mathrm{i.i.d}}{\\sim} \\mathcal{N}(0, I_d), x_q \\sim \\mathcal{N}(0, I_d)$\n",
    "2. Sample $\\beta_1 \\sim \\mathcal{N}(0, I_{d_1}), \\beta_2 \\sim \\mathcal{N}(0, I_{d_2}), d_1, d_2 \\leqslant d$\n",
    "3. Sample $\\epsilon_{11},\\epsilon_{21},\\dots,\\epsilon_{L1},\\dots,\\epsilon_{12}, \\epsilon_{22}, \\dots, \\epsilon_{L2}\\overset{\\mathrm{i.i.d}}{\\sim} \\mathcal{N}(0, \\sigma^2)$\n",
    "4. $y_{i1} = \\beta_1^\\top x_{1:d_1} + \\epsilon_{i1}, i \\in [L]; y_{i2} = \\beta_2^\\top x_{d - d_2 -1:d} + \\epsilon_{i2}, i \\in [L]$\n",
    "\n",
    "The following code import the data generation process implemented in `utils/data_utils.py`. "
   ]
  },
  {
   "cell_type": "code",
   "execution_count": 2,
   "id": "f8ab55d0-66f6-4114-b7da-3ba57bdfda0e",
   "metadata": {},
   "outputs": [],
   "source": [
    "from utils.data_utils import MultiTaskLinearReg"
   ]
  },
  {
   "cell_type": "markdown",
   "id": "beb80188-f7d0-457b-836b-b2d57e6aeed1",
   "metadata": {},
   "source": [
    "In our training setting, we have $L=8*d, \\sigma^2=0.1$. We use a default batch size of $64$"
   ]
  },
  {
   "cell_type": "code",
   "execution_count": 3,
   "id": "44234d99-c80e-4b58-8563-59e053ea5391",
   "metadata": {},
   "outputs": [
    {
     "name": "stdout",
     "output_type": "stream",
     "text": [
      "Sample data from the linear model:\n",
      "\n",
      "z (input and output concatenated):\n",
      "Dimensions of z: torch.Size([128, 40, 7])\n",
      "\n",
      "z_q (query data):\n",
      "tensor([[[-1.0028,  0.5808, -0.0651,  0.5011,  1.9787,  0.0000,  0.0000]],\n",
      "\n",
      "        [[ 1.5639,  0.4219, -1.3324, -0.0082,  0.0695,  0.0000,  0.0000]],\n",
      "\n",
      "        [[-0.9833,  0.6277, -1.7880, -0.8808,  0.9120,  0.0000,  0.0000]],\n",
      "\n",
      "        [[ 0.0654, -0.0865,  1.1273,  0.7868,  0.8076,  0.0000,  0.0000]],\n",
      "\n",
      "        [[-0.3637, -2.0740,  0.6814, -0.7729,  0.8696,  0.0000,  0.0000]]])\n",
      "Dimensions of z_q: torch.Size([128, 1, 7])\n",
      "\n",
      "y_q (query targets):\n",
      "tensor([[[ 1.2019,  2.7299]],\n",
      "\n",
      "        [[-0.0994, -2.4149]],\n",
      "\n",
      "        [[-1.0012,  0.7653]],\n",
      "\n",
      "        [[ 1.0782, -0.5279]],\n",
      "\n",
      "        [[-0.9037, -0.3715]]])\n",
      "Dimensions of y_q: torch.Size([128, 1, 2])\n",
      "\n"
     ]
    }
   ],
   "source": [
    "# Define parameters\n",
    "d = 5\n",
    "dx1 = 3\n",
    "dx2 = 4\n",
    "bsize = 128\n",
    "L = 8 * d\n",
    "\n",
    "# Initialize the LinearReg object\n",
    "train_method = MultiTaskLinearReg({\n",
    "    \"L\": L,\n",
    "    \"dx\": d,\n",
    "    \"dx1\": dx1,\n",
    "    \"dx2\": dx2,\n",
    "    \"dy\": 1,\n",
    "    \"number_of_samples\": bsize,\n",
    "    \"noise_std\": 0.01\n",
    "})\n",
    "\n",
    "# Generate data samples\n",
    "z_q, z, y_q = train_method.__generatedata__()\n",
    "\n",
    "# Print some samples from the generated data along with their dimensions\n",
    "print(\"Sample data from the linear model:\\n\")\n",
    "\n",
    "print(\"z (input and output concatenated):\")\n",
    "# print(z[:5])  # Print the first 5 samples\n",
    "print(f\"Dimensions of z: {z.shape}\\n\")\n",
    "\n",
    "print(\"z_q (query data):\")\n",
    "print(z_q[:5])  # Print the first 5 query samples\n",
    "print(f\"Dimensions of z_q: {z_q.shape}\\n\")\n",
    "\n",
    "print(\"y_q (query targets):\")\n",
    "print(y_q[:5])  # Print the first 5 query targets\n",
    "print(f\"Dimensions of y_q: {y_q.shape}\\n\")\n"
   ]
  },
  {
   "cell_type": "markdown",
   "id": "28114082-dff4-40e7-be7c-1fdecf78c65a",
   "metadata": {},
   "source": [
    "In this example, we set $d=5$, $L=8\\cdot d$. So we want to predict $y_q$ given $x_q$ and $L$ additional $(x, y)$ pairs. "
   ]
  },
  {
   "cell_type": "markdown",
   "id": "bd682041-8d99-428a-9cce-d5f61807a154",
   "metadata": {},
   "source": [
    "## Model Class -- Single Layer Multi-Head Attention.\n",
    "\n",
    "The code below defines the number of heads of the model. Suppose the number of head is $H$. Then the output of the model is\n",
    "$$\n",
    "    \\mathtt{TF}_\\theta(Z,z_q) = \\sum_{h = 1}^HO^{(h)}V^{(h)}\\mathtt{SoftMax}(\\frac{Z^\\top K^{(h)^\\top}Q^{(h)}z_q}{\\sqrt{d+1}})\n",
    "$$\n",
    "\n",
    "Here we have\n",
    "$$\n",
    "    Q^{(h)},K^{(h)},V^{(h)} \\in \\mathbb{R}^{(d+1)\\times(d+1)}, O^{(h)} \\in \\mathbb{R}^{1\\times(d+1)}\n",
    "$$\n",
    "The training loss is the least-squared loss: \n",
    "$$\n",
    "   \\ell(\\theta) = \\mathbb{E} \\bigl [\\bigl( \\mathtt{TF}_\\theta(Z,z_q)  -y_q \\bigr)^2\\bigr].\n",
    "$$\n",
    "\n",
    "**Further Explanation of Our Model**\n",
    "\n",
    "The model is different from a default Multi-Head SoftMax Attention model because it only computes the output of the query token.\n",
    "\n",
    "However, it is **equivalent** to a default Multi-Head SoftMax Attention model that calculates\n",
    "$$\n",
    "\\mathtt{TF}^{'}_\\theta(Z^{'}) = \\sum_{h = 1}^H[O^{(h)}V^{(h)}\\mathtt{SoftMax}(\\frac{Z^{'^\\top} K^{(h)^\\top}Q^{(h)}Z^{'}}{\\sqrt{d+1}} + M)]_q\n",
    "$$\n",
    "\n",
    "where \n",
    "\n",
    "$$\n",
    "Z^{'} = [Z, z_q]\n",
    "$$\n",
    "\n",
    "and $M$ is mask matrix in $\\mathbb{R}^{(d+1）\\times(d+1)}$ where\n",
    "$$\n",
    "M_{ij} = \n",
    "\\begin{cases}\n",
    "    0,& \\text{if } i \\geqslant j\\\\\n",
    "    -\\infty,              & \\text{otherwise}\n",
    "\\end{cases}\n",
    "$$\n",
    "\n",
    "so that token will attend to tokens strictly preceding it.\n",
    "\n",
    "The subscript $q$ in $\\mathtt{TF}_\\theta(Z^{'})$ means we use query token $z_q$ position's output as the output of the model. And apply training loss to it, which the same as above.\n",
    "\n",
    "The two variants are equivalent, we use the **first** to train our problem since we focus on **single layer** cases, but we also provide the **second** type of model to make it easier to stack as **multi layer** model."
   ]
  },
  {
   "cell_type": "markdown",
   "id": "91a7d804-c69e-48fc-b90b-18ee6daaae78",
   "metadata": {},
   "source": [
    "**Note:** \n",
    "- We do not need to use positional embedding because it is okay to have permutation invariance (the first $L$ $(x,y)$ pairs are i.i.d.).\n",
    "- We do not allow $z_q$ attend to itself.\n",
    "\n",
    "We define the transformer architecture as follows. "
   ]
  },
  {
   "cell_type": "markdown",
   "id": "143e260f-7dc1-4d84-b7e1-9cd414670866",
   "metadata": {},
   "source": [
    "#### `MultiHeadAttention` Class\n",
    "\n",
    "This class implements a custom multi-head attention mechanism with flexible initialization methods and optional bias handling for linear projections.\n",
    "\n",
    "- **`__init__` Method**:\n",
    "  - Initializes the class with configurable parameters:\n",
    "    - `n_embd` (embedding dimension), `n_head` (number of heads), `init_method` (weight initialization strategy), `bias` (enable/disable bias), and `n_out` (optional output dimension).\n",
    "  - Defines linear layers (`q_proj`, `k_proj`, `v_proj`, `o_proj`) for projecting queries, keys, values, and output.\n",
    "  - Handles weight initialization based on the specified `init_method`:\n",
    "    - **\"random\"**: Standard random initialization (default behavior).\n",
    "    - **\"small_id\"**: Initializes the projection weights as small identity matrices for a more controlled initialization.\n",
    "    - **\"small_id_qk\"**: Only initializes the query and key projections with small identity matrices.\n",
    "    - **\"oppo_small_id\"**: Initializes half of the heads with a positive small identity matrix and the other half with a negative small identity matrix. This introduces diversity in the heads' initial states.\n",
    "\n",
    "- **`_attn` Method**:\n",
    "  - Implements the core attention mechanism using scaled dot-product attention:\n",
    "    - **Inputs**:\n",
    "      - `q` (queries), `k` (keys), and `v` (values) with shape `(batch_size, seq_len, n_head * n_embd)`.\n",
    "    - **Reshaping**:\n",
    "      - Splits and reshapes the inputs into separate heads.\n",
    "    - **Attention Computation**:\n",
    "      - Computes the attention scores using matrix multiplication, applies a scaling factor, and uses a softmax function to normalize the scores.\n",
    "    - **Output**:\n",
    "      - Computes the weighted sum of the values based on the attention weights.\n",
    "\n",
    "- **`forward` Method**:\n",
    "  - Defines the forward pass through the multi-head attention layer:\n",
    "    - **Inputs**:\n",
    "      - `z_q` (query input) with shape `(batch_size, 1, n_embd)` and `z` (key/value input) with shape `(batch_size, seq_len, n_embd)`.\n",
    "    - **Projection**:\n",
    "      - Projects the inputs to queries, keys, and values using the linear layers.\n",
    "    - **Attention Computation**:\n",
    "      - Calls the `_attn` method to compute attention outputs.\n",
    "    - **Output Projection**:\n",
    "      - Reshapes and projects the attention output to the desired output dimension.\n",
    "    - **Optional Output**:\n",
    "      - If `attention_out` is `True`, returns the attention weights as well.\n",
    "\n",
    "- **`extract_qk` Method**:\n",
    "  - Extracts the query and key weight matrices for each head, useful for analyzing or visualizing the learned attention patterns.\n",
    "\n",
    "- **`extract_ov` Method**:\n",
    "  - Extracts the output and value weight matrices for each head, providing insight into the learned transformations in the attention mechanism.\n"
   ]
  },
  {
   "cell_type": "markdown",
   "id": "9acbf564-24c0-4f0a-b80b-4a6e5beab5a4",
   "metadata": {},
   "source": [
    "### Forward Function \n",
    "\n",
    "The forward function of the `MultiHeadAttention` module implements a series of linear transformations and scaled dot-product attention. Here's a breakdown of the mathematical equations representing its behavior:\n",
    "\n",
    "Given:\n",
    "- $ z_q \\in \\mathbb{R}^{B \\times 1 \\times d} $: Query input, where $ B $ is the batch size and $ d $ is the embedding dimension.\n",
    "- $ z \\in \\mathbb{R}^{B \\times S \\times d} $: Key/Value input, where $ S $ is the sequence length.\n",
    "\n",
    "### 1. Linear Projections\n",
    "The input queries ($z_q$), keys ($ z $), and values ($ z $) are projected using linear layers:\n",
    "\\begin{align}\n",
    "Q = z_q W_Q \\in \\mathbb{R}^{B \\times 1 \\times (h \\cdot d_h)}, \\quad\n",
    "K = z W_K \\in \\mathbb{R}^{B \\times S \\times (h \\cdot d_h)}, \\quad \n",
    "V = z W_V \\in \\mathbb{R}^{B \\times S \\times (h \\cdot d_h)}\n",
    "\\end{align}\n",
    "where:\n",
    "- $ W_Q, W_K, W_V \\in \\mathbb{R}^{d \\times (h \\cdot d_h)} $ are the projection matrices.\n",
    "- $ h $ is the number of heads.\n",
    "- $d_h = \\frac{d}{h} $ is the dimension of each head.\n",
    "\n",
    "### 2. Reshape and Permute\n",
    "The projected queries, keys, and values are reshaped and permuted to split the heads:\n",
    "\\begin{align}\n",
    "Q = \\text{reshape}(Q) \\in \\mathbb{R}^{B \\times h \\times 1 \\times d_h}, \\quad \n",
    "K = \\text{reshape}(K) \\in \\mathbb{R}^{B \\times h \\times S \\times d_h}, \\quad \n",
    "V = \\text{reshape}(V) \\in \\mathbb{R}^{B \\times h \\times S \\times d_h}\n",
    "\\end{align}\n",
    "\n",
    "### 3. Scaled Dot-Product Attention\n",
    "The attention scores are computed using scaled dot-product attention:\n",
    "$$\n",
    "\\text{Attention}(Q, K, V) = \\text{softmax} \\left( \\frac{QK^T}{\\sqrt{d_h}} \\right) V\n",
    "$$\n",
    "where:\n",
    "- $ QK^T \\in \\mathbb{R}^{B \\times h \\times 1 \\times S} $ represents the dot-product between queries and keys.\n",
    "- The division by $ \\sqrt{d_h} $ scales the dot-product values.\n",
    "- The softmax operation normalizes the attention scores across the sequence dimension.\n",
    "\n",
    "### 4. Concatenation of Heads\n",
    "The outputs of the attention mechanism are concatenated:\n",
    "$$\n",
    "\\text{Concat}(head_1, \\ldots, head_h) \\in \\mathbb{R}^{B \\times 1 \\times (h \\cdot d_h)}\n",
    "$$\n",
    "\n",
    "### 5. Final Linear Projection\n",
    "The concatenated output is projected back to the output dimension:\n",
    "$$\n",
    "\\text{Output} = \\text{Concat}(head_1, \\ldots, head_h) W_O \\in \\mathbb{R}^{B \\times 1 \\times d_{\\text{out}}}\n",
    "$$\n",
    "where:\n",
    "- $ W_O \\in \\mathbb{R}^{(h \\cdot d_h) \\times d_{\\text{out}}}$ is the output projection matrix, and $ d_{\\text{out}} $ is either $ d $ or a user-defined output dimension.\n",
    "\n",
    " \n",
    "The overall equation for the forward function can be represented as:\n",
    "$$\n",
    "\\text{Output} = \\text{Concat} \\left( \\text{softmax} \\left( \\frac{QK^T}{\\sqrt{d_h}} \\right) V \\right) W_O\n",
    "$$\n",
    "where:\n",
    "- $ Q, K, V $ are the projected queries, keys, and values.\n",
    "- The attention weights are computed as $ \\text{softmax} \\left( \\frac{QK^T}{\\sqrt{d_h}} \\right)$.\n",
    "- The output is obtained by concatenating the attention outputs from all heads and applying a final linear transformation."
   ]
  },
  {
   "cell_type": "code",
   "execution_count": 4,
   "id": "e07fcd6e-b7ee-40d3-b650-1383be92fc1a",
   "metadata": {},
   "outputs": [],
   "source": [
    "class MultiHeadAttention(nn.Module):\n",
    "    def __init__(self, n_embd, n_head, init_method: str = \"random\", bias: bool = False, n_out: Optional[int] = None):\n",
    "        '''\n",
    "            Initialize the MultiHeadAttention module.\n",
    "            Parameters:\n",
    "                n_embd (int): Embedding dimension for the input.\n",
    "                n_head (int): Number of attention heads.\n",
    "                init_method (str): Method to initialize weights; options include:\n",
    "                    - \"random\": Random initialization.\n",
    "                    - \"small_id\": Initialize as a small identity matrix.\n",
    "                    - \"oppo_small_id\": Initialize half heads with a positive small identity matrix, half with a negative small identity matrix.\n",
    "                bias (bool): Whether to enable bias in the linear layers.\n",
    "                n_out (int, optional): Output dimension. If None, the default dimension is n_embd.\n",
    "        '''\n",
    "        super(MultiHeadAttention, self).__init__()\n",
    "        self.n_embd = n_embd\n",
    "        self.n_head = n_head\n",
    "        self.bias = bias\n",
    "        self.n_out = n_out\n",
    "\n",
    "        # Define the linear projections for queries, keys, values, and output\n",
    "        self.q_proj = nn.Linear(n_embd, n_embd * n_head, bias=self.bias)\n",
    "        self.k_proj = nn.Linear(n_embd, n_embd * n_head, bias=self.bias)\n",
    "        self.v_proj = nn.Linear(n_embd, n_embd * n_head, bias=self.bias)\n",
    "        self.o_proj = nn.Linear(n_embd * n_head, n_embd, bias=self.bias) if self.n_out is None else nn.Linear(n_embd * n_head, n_out, bias=self.bias)\n",
    "\n",
    "        # Handle different weight initialization strategies\n",
    "        if init_method == \"random\":\n",
    "            # Default random initialization; no additional action needed\n",
    "            pass\n",
    "        elif init_method == \"small_id\":\n",
    "            # Initialize projections with a small identity matrix\n",
    "            self.q_proj.weight.data = torch.eye(self.n_embd).repeat(self.n_head, 1) * 1e-6\n",
    "            self.k_proj.weight.data = torch.eye(self.n_embd).repeat(self.n_head, 1) * 1e-6\n",
    "            self.v_proj.weight.data = torch.eye(self.n_embd).repeat(self.n_head, 1) * 1e-6\n",
    "            if self.n_out is None:\n",
    "                self.o_proj.weight.data = torch.eye(self.n_embd).repeat(1, self.n_head) * 1e-6\n",
    "        elif init_method == \"small_id_qk\":\n",
    "            # Initialize only the query and key projections as small identity matrices\n",
    "            self.q_proj.weight.data = torch.eye(self.n_embd).repeat(self.n_head, 1) * 1e-4\n",
    "            self.k_proj.weight.data = torch.eye(self.n_embd).repeat(self.n_head, 1) * 1e-4\n",
    "        elif init_method == \"oppo_small_id\":\n",
    "            # Initialize half heads with positive small identity and half with negative\n",
    "            assert self.n_head % 2 == 0, \"The number of heads must be divisible by 2 for 'oppo_small_id' initialization.\"\n",
    "            positive_id = torch.eye(self.n_embd) * 1e-6\n",
    "            negative_id = -torch.eye(self.n_embd) * 1e-6\n",
    "            q_list = [positive_id for _ in range(self.n_head // 2)] + [negative_id for _ in range(self.n_head // 2)]\n",
    "            q_tensor = torch.stack(q_list, dim=0).view(self.n_head * self.n_embd, self.n_embd)\n",
    "            k_list = [positive_id for _ in range(self.n_head)]\n",
    "            k_tensor = torch.stack(k_list, dim=0).view(self.n_head * self.n_embd, self.n_embd)\n",
    "            self.q_proj.weight.data = q_tensor.clone()\n",
    "            self.k_proj.weight.data = k_tensor.clone()\n",
    "        else:\n",
    "            raise NotImplementedError(\"Unsupported initialization method specified.\")\n",
    "        \n",
    "    def _attn(self, q, k, v):\n",
    "        '''\n",
    "            Compute the attention mechanism.\n",
    "            Parameters:\n",
    "                q (torch.Tensor): Query tensor of shape (batch_size, seq_len, n_head * n_embd).\n",
    "                k (torch.Tensor): Key tensor of the same shape as q.\n",
    "                v (torch.Tensor): Value tensor of the same shape as q.\n",
    "            Returns:\n",
    "                attn_output (torch.Tensor): Output after applying attention.\n",
    "                attn_weights (torch.Tensor): Attention weights.\n",
    "        '''\n",
    "        q_len = q.shape[1]\n",
    "        ex_len = k.shape[1]\n",
    "        # Reshape tensors to separate heads\n",
    "        q = q.view(-1, q_len, self.n_head, self.n_embd)\n",
    "        k = k.view(-1, ex_len, self.n_head, self.n_embd)\n",
    "        v = v.view(-1, ex_len, self.n_head, self.n_embd)\n",
    "\n",
    "        # Permute dimensions to prepare for attention computation\n",
    "        q = q.permute(0, 2, 1, 3)\n",
    "        k = k.permute(0, 2, 1, 3)\n",
    "        v = v.permute(0, 2, 1, 3)\n",
    "\n",
    "        # Scaled dot-product attention\n",
    "        attn_weights = torch.matmul(q, k.transpose(-2, -1)) * self.n_embd ** (-0.5)\n",
    "        attn_weights = nn.functional.softmax(attn_weights, dim=-1)  # Normalize attention weights\n",
    "\n",
    "        # Apply attention weights to values\n",
    "        attn_output = torch.matmul(attn_weights, v)\n",
    "        return attn_output, attn_weights\n",
    "\n",
    "    def forward(self, z_q, z):\n",
    "        '''\n",
    "            Forward pass through the multi-head attention layer.\n",
    "            Parameters:\n",
    "                z_q (torch.Tensor): Query input of shape (batch_size, 1, n_embd).\n",
    "                z (torch.Tensor): Key/Value input of shape (batch_size, seq_len, n_embd).\n",
    "               \n",
    "            Returns:\n",
    "                output (torch.Tensor): Attention output.\n",
    "                \n",
    "        '''\n",
    "        batch_size, seq_len, q_len = z.size(0), z.size(1), z_q.size(1)\n",
    "        q = self.q_proj(z_q)  # Project queries\n",
    "        k = self.k_proj(z)    # Project keys\n",
    "        v = self.v_proj(z)    # Project values\n",
    "\n",
    "        # Compute attention\n",
    "        attn_output, attn_weights = self._attn(q, k, v)\n",
    "\n",
    "        # Reshape output to merge heads\n",
    "        attn_output = attn_output.permute(0, 2, 1, 3).contiguous()\n",
    "        attn_output = attn_output.view(batch_size, q_len, self.n_embd * self.n_head)\n",
    "        output = self.o_proj(attn_output)  # Project to output space\n",
    "        return output\n",
    "\n",
    "    def extract_qk(self):\n",
    "        '''\n",
    "            Extract the query and key weight matrices for analysis.\n",
    "            Returns:\n",
    "                qk (list of dict): List containing query and key weight matrices for each head.\n",
    "        '''\n",
    "        q_matrix = self.q_proj.weight.detach().cpu().transpose(0, 1)\n",
    "        k_matrix = self.k_proj.weight.detach().cpu().transpose(0, 1)\n",
    "        q_matrix = q_matrix.view(self.n_embd, self.n_head, self.n_embd)\n",
    "        k_matrix = k_matrix.view(self.n_embd, self.n_head, self.n_embd)\n",
    "\n",
    "        qk = []\n",
    "        for i in range(self.n_head):\n",
    "            qk.append({'W_Q': q_matrix[:, i, :], 'W_K': k_matrix[:, i, :]})\n",
    "        return qk\n",
    "\n",
    "    def extract_ov(self):\n",
    "        '''\n",
    "            Extract the output and value weight matrices for analysis.\n",
    "            Returns:\n",
    "                ov (list of dict): List containing output and value weight matrices for each head.\n",
    "        '''\n",
    "        o_matrix = self.o_proj.weight.detach().cpu().transpose(0, 1)\n",
    "        v_matrix = self.v_proj.weight.detach().cpu().transpose(0, 1)\n",
    "        if self.n_out is None:\n",
    "            o_matrix = o_matrix.view(self.n_head, self.n_embd, self.n_embd)\n",
    "        else:\n",
    "            o_matrix = o_matrix.view(self.n_head, self.n_embd, self.n_out)\n",
    "        v_matrix = v_matrix.view(self.n_embd, self.n_head, self.n_embd)\n",
    "\n",
    "        ov = []\n",
    "        for i in range(self.n_head):\n",
    "            ov.append({'W_O': o_matrix[i, :, :], 'W_V': v_matrix[:, i, :]})\n",
    "        return ov"
   ]
  },
  {
   "cell_type": "markdown",
   "id": "28666526-8768-46c7-80a9-434860173c47",
   "metadata": {},
   "source": [
    "#### `CausalMultiHeadAttention` Class\n",
    "The default Muti-Head Attention model with causal mask. It is can be used for multi-layer model. But it runs slower than `MultiHeadAttention` in **single layer** case."
   ]
  },
  {
   "cell_type": "code",
   "execution_count": 5,
   "id": "9684fd07-3a30-45fe-83ad-798984c3109f",
   "metadata": {},
   "outputs": [],
   "source": [
    "import torch\n",
    "import torch.nn as nn\n",
    "import torch.nn.functional as F\n",
    "import numpy as np\n",
    "\n",
    "class CausalMultiHeadAttention(nn.Module):\n",
    "    def __init__(self, n_embd, n_head, init_method=\"random\"):\n",
    "        \"\"\"\n",
    "        Multi-layer causal multi-head attention mechanism.\n",
    "        \n",
    "        Parameters:\n",
    "            n_embd (int): Embedding dimension for the input.\n",
    "            n_head (int): Number of attention heads.\n",
    "            num_layers (int): Number of layers in the attention stack.\n",
    "        Output shape: \n",
    "        Batchsize * (Length+1) * (d+1)\n",
    "        \"\"\"\n",
    "        super(CausalMultiHeadAttention, self).__init__()\n",
    "        \n",
    "        self.n_embd = n_embd\n",
    "        self.n_head = n_head\n",
    "        self.d_head = n_embd \n",
    "        self.n_out = n_embd\n",
    "        \n",
    "        # Define the linear projections for queries, keys, values, and output\n",
    "        self.q_proj = nn.Linear(n_embd, n_embd * n_head, bias=None)\n",
    "        self.k_proj = nn.Linear(n_embd, n_embd * n_head, bias=None)\n",
    "        self.v_proj = nn.Linear(n_embd, n_embd * n_head, bias=None)\n",
    "        self.o_proj = nn.Linear(n_embd * n_head, n_embd, bias=None)\n",
    "\n",
    "        # buffer for causal masking\n",
    "        self.register_buffer(\"bias\", torch.tensor(-1e9))\n",
    "    \n",
    "    \n",
    "        # Handle different weight initialization strategies\n",
    "        if init_method == \"random\":\n",
    "            # Default random initialization; no additional action needed\n",
    "            pass\n",
    "        elif init_method == \"small_id\":\n",
    "            # Initialize projections with a small identity matrix\n",
    "            self.q_proj.weight.data = torch.eye(self.n_embd).repeat(self.n_head, 1) * 1e-6\n",
    "            self.k_proj.weight.data = torch.eye(self.n_embd).repeat(self.n_head, 1) * 1e-6\n",
    "            self.v_proj.weight.data = torch.eye(self.n_embd).repeat(self.n_head, 1) * 1e-6\n",
    "            if self.n_out is None:\n",
    "                self.o_proj.weight.data = torch.eye(self.n_embd).repeat(1, self.n_head) * 1e-6\n",
    "        elif init_method == \"small_id_qk\":\n",
    "            # Initialize only the query and key projections as small identity matrices\n",
    "            self.q_proj.weight.data = torch.eye(self.n_embd).repeat(self.n_head, 1) * 1e-4\n",
    "            self.k_proj.weight.data = torch.eye(self.n_embd).repeat(self.n_head, 1) * 1e-4\n",
    "        elif init_method == \"oppo_small_id\":\n",
    "            # Initialize half heads with positive small identity and half with negative\n",
    "            assert self.n_head % 2 == 0, \"The number of heads must be divisible by 2 for 'oppo_small_id' initialization.\"\n",
    "            positive_id = torch.eye(self.n_embd) * 1e-6\n",
    "            negative_id = -torch.eye(self.n_embd) * 1e-6\n",
    "            weights_list = [positive_id for _ in range(self.n_head // 2)] + [negative_id for _ in range(self.n_head // 2)]\n",
    "            weights_tensor = torch.stack(weights_list, dim=0).view(self.n_head * self.n_embd, self.n_embd)\n",
    "            self.q_proj.weight.data = weights_tensor.clone()\n",
    "            self.k_proj.weight.data = weights_tensor.clone()\n",
    "            self.v_proj.weight.data = weights_tensor.clone()\n",
    "            weights_tensor_o = torch.cat(weights_list, dim=1)  # Shape: (n_embd, n_embd * n_head)\n",
    "            self.o_proj.weight.data = weights_tensor_o.clone()\n",
    "        else:\n",
    "            raise NotImplementedError(\"Unsupported initialization method specified.\")\n",
    "\n",
    "\n",
    "\n",
    "    \n",
    "    def forward(self, x):\n",
    "        \"\"\"\n",
    "        Forward pass through the multi-layer attention mechanism with causal masking.\n",
    "        \n",
    "        Parameters:\n",
    "            z_q (torch.Tensor): Query input of shape (batch_size, 1, n_embd).\n",
    "            z (torch.Tensor): Key/Value input of shape (batch_size, L, n_embd).\n",
    "        \n",
    "        Returns:\n",
    "            torch.Tensor: Output tensor of shape (batch_size, L+1, n_embd).\n",
    "        \"\"\"\n",
    "\n",
    "        batch_size, seq_len, _ = x.size()\n",
    "\n",
    "        # Project the input to get keys, queries, and values\n",
    "        k = self.k_proj(x)  # Shape: (batch_size, seq_len, n_embd * n_head)\n",
    "        q = self.q_proj(x)  # Shape: (batch_size, seq_len, n_embd * n_head)\n",
    "        v = self.v_proj(x)  # Shape: (batch_size, seq_len, n_embd * n_head)\n",
    "        \n",
    "        # Reshape the tensors to separate heads\n",
    "        k = k.view(batch_size, seq_len, self.n_head, self.d_head)  # Shape: (batch_size, seq_len, n_head, d_head)\n",
    "        q = q.view(batch_size, seq_len, self.n_head, self.d_head)  # Shape: (batch_size, seq_len, n_head, d_head)\n",
    "        v = v.view(batch_size, seq_len, self.n_head, self.d_head)  # Shape: (batch_size, seq_len, n_head, d_head)\n",
    "        \n",
    "        # Permute the dimensions to get (batch_size, n_head, seq_len, d_head)\n",
    "        k = k.permute(0, 2, 1, 3)  # Shape: (batch_size, n_head, seq_len, d_head)\n",
    "        q = q.permute(0, 2, 1, 3)  # Shape: (batch_size, n_head, seq_len, d_head)\n",
    "        v = v.permute(0, 2, 1, 3)  # Shape: (batch_size, n_head, seq_len, d_head)\n",
    "        \n",
    "        attn_weights = torch.matmul(q, k.transpose(-2, -1)) * self.n_embd ** (-0.5)\n",
    "        attn_weights = nn.functional.softmax(attn_weights, dim=-1)  # Normalize attention weights\n",
    "\n",
    "        # Create causal mask, which strictly attends to previous token\n",
    "        causal_mask = torch.tril(torch.ones(seq_len, seq_len), diagonal=-1).unsqueeze(0).unsqueeze(0)  # Shape: (1, 1, seq_len, seq_len)\n",
    "        causal_mask = causal_mask.to(attn_weights.device)\n",
    "\n",
    "        # Apply causal mask\n",
    "        causal_mask = causal_mask.bool()\n",
    "        attn_weights = torch.where(causal_mask, attn_weights, self.bias.to(attn_weights.dtype))\n",
    "\n",
    "        # Caculate attention weights\n",
    "        attn_weights = F.softmax(attn_weights, dim=-1)\n",
    "        attn_output = torch.matmul(attn_weights, v)  # Shape: (batch_size, n_head, seq_len, d_head)\n",
    "        \n",
    "        # Apply attention weights to values\n",
    "        attn_output = torch.matmul(attn_weights, v)  # Shape: (batch_size, n_head, seq_len, d_head)\n",
    "        attn_output = attn_output.permute(0, 2, 1, 3).contiguous()  # Shape: (batch_size, seq_len, n_head, d_head)\n",
    "        attn_output = attn_output.view(batch_size, seq_len, self.n_head * self.d_head)  # Merge heads\n",
    "\n",
    "        # Project the output\n",
    "        output = self.o_proj(attn_output)  # Shape: (batch_size, seq_len, n_embd)\n",
    "         \n",
    "        return output\n",
    "\n",
    "\n",
    "    def extract_qk(self):\n",
    "        '''\n",
    "            Extract the query and key weight matrices for analysis.\n",
    "            Returns:\n",
    "                qk (list of dict): List containing query and key weight matrices for each head.\n",
    "        '''\n",
    "        q_matrix = self.q_proj.weight.detach().cpu().transpose(0, 1)\n",
    "        k_matrix = self.k_proj.weight.detach().cpu().transpose(0, 1)\n",
    "        q_matrix = q_matrix.view(self.n_embd, self.n_head, self.n_embd)\n",
    "        k_matrix = k_matrix.view(self.n_embd, self.n_head, self.n_embd)\n",
    "\n",
    "        qk = []\n",
    "        for i in range(self.n_head):\n",
    "            qk.append({'W_Q': q_matrix[:, i, :], 'W_K': k_matrix[:, i, :]})\n",
    "        return qk\n",
    "\n",
    "    def extract_ov(self):\n",
    "        '''\n",
    "            Extract the output and value weight matrices for analysis.\n",
    "            Returns:\n",
    "                ov (list of dict): List containing output and value weight matrices for each head.\n",
    "        '''\n",
    "        o_matrix = self.o_proj.weight.detach().cpu().transpose(0, 1)\n",
    "        v_matrix = self.v_proj.weight.detach().cpu().transpose(0, 1)\n",
    "        if self.n_out is None:\n",
    "            o_matrix = o_matrix.view(self.n_head, self.n_embd, self.n_embd)\n",
    "        else:\n",
    "            o_matrix = o_matrix.view(self.n_head, self.n_embd, self.n_out)\n",
    "        v_matrix = v_matrix.view(self.n_embd, self.n_head, self.n_embd)\n",
    "\n",
    "        ov = []\n",
    "        for i in range(self.n_head):\n",
    "            ov.append({'W_O': o_matrix[i, :, :], 'W_V': v_matrix[:, i, :]})"
   ]
  },
  {
   "cell_type": "markdown",
   "id": "d219aa99-7189-4ced-b1be-c654d65b8c7d",
   "metadata": {},
   "source": [
    "#### `MultiHeadAttentionStack` Class\n",
    "This module implements that:\n",
    "1. When using **single layer** model, use `MultiHeadAttention` to accerlerate computation\n",
    "2. When using **multi layer** model, use `CausalMultiHeadAttention` as it is extensible to multi layers, while `MultiHeadAttention` is designed only for single layer\n",
    "3. A uniform way to extract QK, OV circuits from the model"
   ]
  },
  {
   "cell_type": "code",
   "execution_count": 6,
   "id": "fae5aa2d-9e05-44c3-99d9-58f85d2a5e5d",
   "metadata": {},
   "outputs": [],
   "source": [
    "class MultiHeadAttentionStack(nn.Module):\n",
    "    def __init__(self, n_layers, d_model, num_heads, n_out=1, weight_tying=False):\n",
    "        \"\"\"\n",
    "        Stack multiple layers of attention mechanisms with optional weight tying.\n",
    "        \n",
    "        Parameters:\n",
    "            n_layers (int): Number of attention layers.\n",
    "            d_model (int): Embedding dimension.\n",
    "            num_heads (int): Number of attention heads.\n",
    "            n_out (int): Output dimension for the final linear transformation.\n",
    "            weight_tying (bool): Whether to tie weights across all layers.\n",
    "        \"\"\"\n",
    "        super(MultiHeadAttentionStack, self).__init__()\n",
    "        self.n_layers = n_layers\n",
    "        self.weight_tying = weight_tying\n",
    "        self.d = d_model - 2\n",
    "        \n",
    "        if n_layers == 1:\n",
    "            # Use the original MultiHeadAttention if there's only one layer\n",
    "            self.attention_layer = MultiHeadAttention(d_model, num_heads, init_method=\"random\", bias=False, n_out=n_out)\n",
    "            self.is_single_layer = True\n",
    "        else:\n",
    "            self.is_single_layer = False\n",
    "            if weight_tying:\n",
    "                # Use a single shared instance of CausalMultiHeadAttention across all layers\n",
    "                shared_attention_layer = CausalMultiHeadAttention(d_model, num_heads)\n",
    "                self.attention_layers = nn.ModuleList([shared_attention_layer for _ in range(n_layers)])\n",
    "            else:\n",
    "                # Create independent instances of CausalMultiHeadAttention for each layer\n",
    "                self.attention_layers = nn.ModuleList([CausalMultiHeadAttention(d_model, num_heads) for _ in range(n_layers)])\n",
    "            self.final_linear = nn.Linear(d_model, n_out, bias=False)\n",
    "\n",
    "    def forward(self, z_q, z):\n",
    "        \"\"\"\n",
    "        Forward pass through the attention stack.\n",
    "    \n",
    "        Parameters:\n",
    "            inputs (torch.Tensor): Input tensors.\n",
    "                - Always expect (z_q, z) as inputs (query and key/value pair).\n",
    "    \n",
    "        Returns:\n",
    "            torch.Tensor: Output tensor.\n",
    "        \"\"\"\n",
    "        \n",
    "    \n",
    "        if self.is_single_layer:\n",
    "            # For single-layer case, use the existing MultiHeadAttention logic\n",
    "            return self.attention_layer(z_q, z)\n",
    "        else:\n",
    "            # For multi-layer case, combine z_q and z into one tensor along the sequence dimension\n",
    "            x = torch.cat((z, z_q), dim=1)  # Shape: (batch_size, seq_len + 1, d_model)\n",
    "            for layer in self.attention_layers:\n",
    "                x = layer(x)\n",
    "            \n",
    "            # Apply final linear layer transformation\n",
    "            output = self.final_linear(x)  # Shape: (batch_size, seq_len + 1, n_out)\n",
    "    \n",
    "            # Extract the output at the last position (corresponding to z_q)\n",
    "            output = output[:, -1:, :]  # Shape: (batch_size, 1, n_out)\n",
    "            return output\n",
    "\n",
    "    def extract_qk_stack(self):\n",
    "        \"\"\"\n",
    "        Extract the QK matrices for each layer in the stacked MultiHeadAttention model.\n",
    "        \n",
    "        Returns:\n",
    "            list of list: Outer list corresponds to layers, and each inner list contains\n",
    "                          QK matrices for each head in that layer.\n",
    "        \"\"\"\n",
    "        if self.is_single_layer:\n",
    "            return [self.attention_layer.extract_qk()]\n",
    "        else:\n",
    "            all_qk_matrices = []\n",
    "            for layer in self.attention_layers:\n",
    "                qk_matrices = layer.extract_qk()  # Call the extract_qk() method of CausalMultiHeadAttention\n",
    "                all_qk_matrices.append(qk_matrices)\n",
    "            return all_qk_matrices\n",
    "\n",
    "    \n",
    "    def extract_ov_stack(self):\n",
    "        \"\"\"\n",
    "        Extract the OV matrices for each layer in the stacked MultiHeadAttention model.\n",
    "        \n",
    "        Returns:\n",
    "            list of list: Outer list corresponds to layers, and each inner list contains\n",
    "                          OV matrices for each head in that layer.\n",
    "        \"\"\"\n",
    "        if self.is_single_layer:\n",
    "            return [self.attention_layer.extract_ov()]\n",
    "        else:\n",
    "            all_ov_matrices = []\n",
    "            for layer in self.attention_layers:\n",
    "                ov_matrices = layer.extract_ov()  # Call the extract_ov() method of CausalMultiHeadAttention\n",
    "                all_ov_matrices.append(ov_matrices)\n",
    "            return all_ov_matrices\n",
    "\n",
    "    def extract_final_linear(self):\n",
    "        \"\"\"\n",
    "        Extract the parameters of the final linear layer in the attention stack.\n",
    "        \n",
    "        Returns:\n",
    "            torch.nn.Parameter or None: If multi-layer, returns the parameter tensor of the final linear layer.\n",
    "                                        If single-layer, prints a message and returns None.\n",
    "        \"\"\"\n",
    "        if self.is_single_layer:\n",
    "            \n",
    "            return torch.eye(1).cpu()\n",
    "        else:\n",
    "            return self.final_linear.weight.detach().cpu()\n"
   ]
  },
  {
   "cell_type": "markdown",
   "id": "c138988a-08b9-43ab-a17d-894179892f7a",
   "metadata": {},
   "source": [
    "# Define Methods to store QK/OV dynamics during training and plot trianing loss"
   ]
  },
  {
   "cell_type": "code",
   "execution_count": 7,
   "id": "94333745-32ec-4852-8e32-6c3ef8fc046f",
   "metadata": {},
   "outputs": [],
   "source": [
    "import numpy as np\n",
    "import matplotlib.pyplot as plt\n",
    "\n",
    "def QK_dyn_stack(model_stack):\n",
    "    \"\"\"\n",
    "    Compute QK dynamics for each layer in a stacked MultiHeadAttention model.\n",
    "\n",
    "    Parameters:\n",
    "        model_stack (nn.Module): The stacked MultiHeadAttention model (instance of MultiHeadAttentionStack).\n",
    "\n",
    "    Returns:\n",
    "        list of list: QK dynamics for each layer, where each list corresponds to dynamics of all heads in a layer.\n",
    "    \"\"\"\n",
    "    all_qk_dynamics = []\n",
    "    d = model_stack.d  # Embedding dimension\n",
    "\n",
    "    # Handle one-layer case\n",
    "    if model_stack.n_layers == 1:\n",
    "        qks = model_stack.attention_layer.extract_qk()\n",
    "        qk_dynamics = []\n",
    "        for qk in qks:\n",
    "            W_Q = qk['W_Q']\n",
    "            W_K = qk['W_K'].transpose(0, 1)\n",
    "            W_QK = W_Q @ W_K\n",
    "            diag_elements = torch.diagonal(W_QK)\n",
    "            diag_elements_except_last = diag_elements[:-1]\n",
    "            sum_diag = diag_elements_except_last.sum()\n",
    "            qk_dynamics.append(sum_diag / (diag_elements_except_last.numel() * np.sqrt(d + 2)))\n",
    "        all_qk_dynamics.append(qk_dynamics)\n",
    "    else:\n",
    "        # Handle multi-layer case\n",
    "        for layer in model_stack.attention_layers:\n",
    "            qks = layer.extract_qk()\n",
    "            qk_dynamics = []\n",
    "            for qk in qks:\n",
    "                W_Q = qk['W_Q']\n",
    "                W_K = qk['W_K'].transpose(0, 1)\n",
    "                W_QK = W_Q @ W_K\n",
    "                diag_elements = torch.diagonal(W_QK)\n",
    "                diag_elements_except_last = diag_elements[:-1]\n",
    "                sum_diag = diag_elements_except_last.sum()\n",
    "                qk_dynamics.append(sum_diag / (diag_elements_except_last.numel() * np.sqrt(d + 2)))\n",
    "            all_qk_dynamics.append(qk_dynamics)\n",
    "    \n",
    "    return all_qk_dynamics\n",
    "\n",
    "def QK_mat_stack(model_stack):\n",
    "    \"\"\"\n",
    "    Compute QK matrices for each layer in a stacked MultiHeadAttention model.\n",
    "\n",
    "    Parameters:\n",
    "        model_stack (nn.Module): The stacked MultiHeadAttention model (instance of MultiHeadAttentionStack).\n",
    "\n",
    "    Returns:\n",
    "        list of list: QK matrices for each layer, where each list corresponds to dynamics of all heads in a layer.\n",
    "    \"\"\"\n",
    "    all_qk_matrices = []\n",
    "    d = model_stack.d  # Embedding dimension\n",
    "\n",
    "    # Handle one-layer case\n",
    "    if model_stack.n_layers == 1:\n",
    "        qks = model_stack.attention_layer.extract_qk()\n",
    "        qk_matrices = []\n",
    "        for qk in qks:\n",
    "            W_Q = qk['W_Q']\n",
    "            W_K = qk['W_K'].transpose(0, 1)\n",
    "            W_QK = W_Q @ W_K\n",
    "            qk_matrices.append(W_QK)\n",
    "        all_qk_matrices.append(qk_matrices)\n",
    "    else:\n",
    "        # Handle multi-layer case\n",
    "        for layer in model_stack.attention_layers:\n",
    "            qks = layer.extract_qk()\n",
    "            qk_dynamics = []\n",
    "            for qk in qks:\n",
    "                W_Q = qk['W_Q']\n",
    "                W_K = qk['W_K'].transpose(0, 1)\n",
    "                W_QK = W_Q @ W_K\n",
    "                qk_matrices.append(W_QK)\n",
    "            all_qk_matrices.append(qk_matrices)\n",
    "    \n",
    "    return all_qk_matrices\n",
    "\n",
    "\n",
    "\n",
    "def OV_dyn_stack(model_stack):\n",
    "    \"\"\"\n",
    "    Compute OV dynamics for each layer in a stacked MultiHeadAttention model.\n",
    "\n",
    "    Parameters:\n",
    "        model_stack (nn.Module): The stacked MultiHeadAttention model (instance of MultiHeadAttentionStack).\n",
    "\n",
    "    Returns:\n",
    "        list of list: OV dynamics for each layer, where each list corresponds to dynamics of all heads in a layer.\n",
    "    \"\"\"\n",
    "    all_ov_dynamics = []\n",
    "\n",
    "    # Handle one-layer case\n",
    "    if model_stack.n_layers == 1:\n",
    "        ovs = model_stack.attention_layer.extract_ov()\n",
    "        ov_dynamics = []\n",
    "        for ov in ovs:\n",
    "            W_V = ov['W_V']\n",
    "            W_O = ov['W_O']\n",
    "            ov_circuit = W_V @ W_O\n",
    "            ov_dynamics.append(ov_circuit[-1, 0])  # Assumes we're interested in this specific entry\n",
    "        all_ov_dynamics.append(ov_dynamics)\n",
    "    else:\n",
    "        # Handle multi-layer case\n",
    "        for layer in model_stack.attention_layers:\n",
    "            ovs = layer.extract_ov()\n",
    "            linear = model_stack.extract_final_linear()\n",
    "            linear = linear.transpose(0, 1) \n",
    "            ov_dynamics = []\n",
    "            for ov in ovs:\n",
    "                W_V = ov['W_V']\n",
    "                W_O = ov['W_O']\n",
    "                ov_circuit = W_V @ W_O @ linear\n",
    "                ov_dynamics.append(ov_circuit[-1, 0])  # Assumes we're interested in this specific entry\n",
    "            all_ov_dynamics.append(ov_dynamics)\n",
    "    \n",
    "    return all_ov_dynamics\n",
    "\n",
    "\n",
    "\n",
    "def plot_losses(training_losses, validation_losses, validation_every):\n",
    "    plt.figure(figsize=(10, 5))\n",
    "\n",
    "    # Plot training losses\n",
    "    plt.plot(range(len(training_losses)), training_losses, label=\"Training Loss\")\n",
    "\n",
    "    # Plot validation losses\n",
    "    val_indices = list(range(0, len(training_losses), validation_every))\n",
    "    plt.plot(val_indices, validation_losses, label=\"Validation Loss\", linestyle=\"--\")\n",
    "\n",
    "    plt.xlabel(\"Training Steps\")\n",
    "    plt.ylabel(\"Loss\")\n",
    "    plt.title(\"Training and Validation Loss\")\n",
    "    plt.legend()\n",
    "    plt.grid(True)\n",
    "    plt.show()\n"
   ]
  },
  {
   "cell_type": "markdown",
   "id": "32a2d95d-d120-4e43-8426-47b35b5ddc14",
   "metadata": {},
   "source": [
    "# Import a Config Class that specify the configuration of model, training method, and data"
   ]
  },
  {
   "cell_type": "code",
   "execution_count": 8,
   "id": "8c2a2956-d80f-4345-bb1a-f1de73c682ff",
   "metadata": {},
   "outputs": [],
   "source": [
    "from utils.config import MultiTaskConfig"
   ]
  },
  {
   "cell_type": "markdown",
   "id": "9d84b1e4-8c60-4f45-a967-640b02b0136a",
   "metadata": {},
   "source": [
    "## Write the training and validation step\n",
    "\n",
    "\n",
    "### Optimizer\n",
    " \n",
    "We provide three optimizer options:\n",
    "1. SGD (without momentum)\n",
    "2. Adam\n",
    "3. AdamW (Adam with weight decay regularization)\n",
    "\n",
    "We only specify learning rate $\\lambda$, which means only AdamW will use weight decay with default rate $0.001$.\n",
    "\n",
    "\n",
    "### Training Setting\n",
    "\n",
    "#### 1. Traning and Log Setup\n",
    "\n",
    "Set Basic information for training logging.\n",
    "1. `training_steps` defines the number of training steps\n",
    "2. `dynamic_log_every_step` defines the frequency of logging the QK, OV dynamics of all heads.\n",
    "3. `loss_log_every_step` defines the frequency of logging loss."
   ]
  },
  {
   "cell_type": "code",
   "execution_count": 9,
   "id": "9b911497-b270-4c01-a4c6-884f948cf696",
   "metadata": {},
   "outputs": [],
   "source": [
    "def train_step(model, z_q, z, y_q, optimizer, loss_func):\n",
    "    optimizer.zero_grad()\n",
    "    output = model(z_q, z)\n",
    "    loss = loss_func(output, y_q)\n",
    "    loss.backward()\n",
    "    optimizer.step()\n",
    "    return loss.detach().item(), output.detach()\n",
    "\n",
    "\n",
    "def validate_step(model, z_q, z, y_q, loss_func):\n",
    "    output = model(z_q, z)\n",
    "    loss = loss_func(output, y_q)      \n",
    "    return loss.detach().item()"
   ]
  },
  {
   "cell_type": "markdown",
   "id": "b4bec26e-d9ac-4d9c-b2d0-d5043067287a",
   "metadata": {},
   "source": [
    "## The whole pipeline "
   ]
  },
  {
   "cell_type": "code",
   "execution_count": 10,
   "id": "50baaee6-e2d2-4f00-930f-4f466431e3f3",
   "metadata": {},
   "outputs": [],
   "source": [
    "from tqdm import tqdm\n",
    "\n",
    "def run_experiment(config):\n",
    "    \"\"\"\n",
    "    Run an experiment based on the given configuration.\n",
    "\n",
    "    Parameters:\n",
    "        config (Config): Configuration object containing experiment parameters.\n",
    "\n",
    "    Returns:\n",
    "        dict: Dictionary containing results of the experiment, including losses and dynamics.\n",
    "    \"\"\"\n",
    "    # Device setup\n",
    "    device = torch.device(\"cuda\" if torch.cuda.is_available() else \"cpu\")\n",
    "    print(f\"Using device: {device}\")\n",
    "\n",
    "    # Instantiate the model\n",
    "    model = MultiHeadAttentionStack(\n",
    "        config.n_layers,\n",
    "        config.n_embd,\n",
    "        config.n_head,\n",
    "        config.n_out,\n",
    "        config.weight_tying\n",
    "    )\n",
    "\n",
    "\n",
    "    \n",
    "    model.to(device)  # Move model to device\n",
    "\n",
    "    # initialize data generation method\n",
    "    data_generation = MultiTaskLinearReg({\n",
    "        \"L\": config.L,\n",
    "        \"dx\": config.d,\n",
    "        \"dx1\": config.dx1,\n",
    "        \"dx2\": config.dx2,\n",
    "        \"dy\": 1,\n",
    "        \"number_of_samples\": config.batch_size,\n",
    "        \"noise_std\": config.noise_std\n",
    "    })\n",
    "    \n",
    "    # Initialize optimizer\n",
    "    optimizer_dict = {\n",
    "        \"SGD\": torch.optim.SGD,\n",
    "        \"Adam\": torch.optim.Adam,\n",
    "        \"AdamW\": torch.optim.AdamW\n",
    "    }\n",
    "    optimizer = optimizer_dict[config.method](model.parameters(), lr=config.learning_rate, **config.optimizer_params)\n",
    "\n",
    "    # Initialize loss function\n",
    "    loss_func = torch.nn.MSELoss()\n",
    "\n",
    "    # Initialize logging structures\n",
    "    loss_sequence = []\n",
    "    validation_loss_sequence = []\n",
    "\n",
    "   # Correctly initialize data structures to store QK and OV dynamics and QK matrices\n",
    "    if config.n_layers == 1:\n",
    "        # For one-layer case, initialize lists for each head\n",
    "        QK_dynamics = [[] for _ in range(config.n_head)]\n",
    "        OV_dynamics = [[] for _ in range(config.n_head)]\n",
    "        QK_matrices = [[] for _ in range(config.n_head)]\n",
    "    else:\n",
    "        # For multi-layer case, initialize lists for each layer and each head in the layer\n",
    "        QK_dynamics = [[] for _ in range(config.n_layers)]  # Outer list for each layer\n",
    "        OV_dynamics = [[] for _ in range(config.n_layers)]  # Outer list for each layer\n",
    "        QK_matrices = [[] for _ in range(config.n_layers)]\n",
    "        for layer_idx in range(config.n_layers):\n",
    "            QK_dynamics[layer_idx] = [[] for _ in range(config.n_head)]\n",
    "            OV_dynamics[layer_idx] = [[] for _ in range(config.n_head)]\n",
    "            QK_matrices = [[] for _ in range(config.n_head)]\n",
    "\n",
    "\n",
    " \n",
    "    # Training loop with tqdm for progress monitoring\n",
    "  \n",
    "    pbar = tqdm(range(config.training_steps))\n",
    "    for step in pbar:\n",
    "        # Generate training data\n",
    "        zs_q, zs, ys_q = data_generation.__generatedata__()   \n",
    "        \n",
    "        loss, _ = train_step(model, zs_q.to(device), zs.to(device), ys_q.to(device), optimizer, loss_func)\n",
    "        loss_sequence.append(loss)\n",
    "    \n",
    "        # Update progress bar description\n",
    "        if step % config.loss_log_every_step == 0:\n",
    "            pbar.set_description(f\"Training loss {loss:.4f}\")\n",
    "    \n",
    "        # Log QK and OV dynamics\n",
    "        if step % config.dynamic_log_every_step == 0:\n",
    "            qk_dynamics = QK_dyn_stack(model)  # Collect QK dynamics for all layers and heads\n",
    "            ov_dynamics = OV_dyn_stack(model)  # Collect OV dynamics for all layers and heads\n",
    "            \n",
    "            if config.n_layers == 1:\n",
    "                # Handle the one-layer case\n",
    "                for head_idx in range(config.n_head):\n",
    "                    QK_dynamics[head_idx].append(qk_dynamics[0][head_idx])  # qk_dynamics[0] since only one layer\n",
    "                    OV_dynamics[head_idx].append(ov_dynamics[0][head_idx])  # ov_dynamics[0] since only one layer\n",
    "            else:\n",
    "                # Handle the multi-layer case\n",
    "                for layer_idx in range(config.n_layers):\n",
    "                    for head_idx in range(config.n_head):\n",
    "                        QK_dynamics[layer_idx][head_idx].append(qk_dynamics[layer_idx][head_idx])\n",
    "                        OV_dynamics[layer_idx][head_idx].append(ov_dynamics[layer_idx][head_idx])\n",
    "\n",
    "        # Run validation\n",
    "        if step % config.validation_every == 0:\n",
    "            zs_q_val, zs_val, ys_q_val = data_generation.__generatedata__()  # Generate validation data\n",
    "            val_loss = validate_step(model, zs_q_val.to(device), zs_val.to(device), ys_q_val.to(device), loss_func)\n",
    "            validation_loss_sequence.append(val_loss)\n",
    "            if step % config.print_loss_every == 0:\n",
    "                print(f\"After {step} steps, Training Loss: {loss:.4f}, Validation Loss: {val_loss:.4f}\")\n",
    "\n",
    "        # Log QK matrices\n",
    "        if step % config.qk_log_every_step == 0:\n",
    "            qk_matrices = QK_mat_stack(model)\n",
    "            if config.n_layers == 1:\n",
    "                # Handle the one-layer case\n",
    "                for head_idx in range(config.n_head):\n",
    "                    QK_matrices[head_idx].append(qk_matrices[0][head_idx])  # qk_dynamics[0] since only one layer\n",
    "            else:\n",
    "                # Handle the multi-layer case\n",
    "                for layer_idx in range(config.n_layers):\n",
    "                    for head_idx in range(config.n_head):\n",
    "                        QK_matrices[layer_idx][head_idx].append(qk_matrices[layer_idx][head_idx])\n",
    "\n",
    "\n",
    "    return {\n",
    "        'final_loss': loss,\n",
    "        'training_losses': loss_sequence,\n",
    "        'validation_losses': validation_loss_sequence,\n",
    "        'qk_dynamics': QK_dynamics,\n",
    "        'ov_dynamics': OV_dynamics,\n",
    "        'qk_matrices': QK_matrices,\n",
    "        'config': config,\n",
    "        'model':model\n",
    "    }\n"
   ]
  },
  {
   "cell_type": "markdown",
   "id": "7fe61aad-6207-43c4-a843-28b40c477932",
   "metadata": {},
   "source": [
    "#### Let's run with $H=3$ first"
   ]
  },
  {
   "cell_type": "code",
   "execution_count": 11,
   "id": "42b616e0-8bcc-4208-8326-3fc1dbb71824",
   "metadata": {},
   "outputs": [
    {
     "name": "stdout",
     "output_type": "stream",
     "text": [
      "Config(\n",
      "  n_layers: 1\n",
      "  n_head: 3\n",
      "  d: 6\n",
      "  L: 48\n",
      "  method: Adam\n",
      "  learning_rate: 0.001\n",
      "  batch_size: 256\n",
      "  noise_std: 0.31622776601683794\n",
      "  optimizer_params: {}\n",
      "  training_steps: 500001\n",
      "  dynamic_log_every_step: 1000\n",
      "  qk_log_every_step: 1000\n",
      "  loss_log_every_step: 1000\n",
      "  validation_every: 1000\n",
      "  print_loss_every: 50000\n",
      "  n_embd (d + 1): 8\n",
      ")\n",
      "Using device: cuda\n"
     ]
    },
    {
     "name": "stderr",
     "output_type": "stream",
     "text": [
      "Training loss 4.0587:   0%|                                                                                                  | 22/500001 [00:00<1:38:09, 84.90it/s]"
     ]
    },
    {
     "name": "stdout",
     "output_type": "stream",
     "text": [
      "After 0 steps, Training Loss: 4.0587, Validation Loss: 4.0765\n"
     ]
    },
    {
     "name": "stderr",
     "output_type": "stream",
     "text": [
      "Training loss 0.3986:  10%|█████████▌                                                                                      | 50056/500001 [02:11<18:00, 416.61it/s]"
     ]
    },
    {
     "name": "stdout",
     "output_type": "stream",
     "text": [
      "After 50000 steps, Training Loss: 0.3986, Validation Loss: 0.3976\n"
     ]
    },
    {
     "name": "stderr",
     "output_type": "stream",
     "text": [
      "Training loss 0.4198:  20%|███████████████████                                                                            | 100071/500001 [04:19<16:48, 396.63it/s]"
     ]
    },
    {
     "name": "stdout",
     "output_type": "stream",
     "text": [
      "After 100000 steps, Training Loss: 0.4198, Validation Loss: 0.4726\n"
     ]
    },
    {
     "name": "stderr",
     "output_type": "stream",
     "text": [
      "Training loss 0.5033:  30%|████████████████████████████▌                                                                  | 150046/500001 [06:29<18:33, 314.31it/s]"
     ]
    },
    {
     "name": "stdout",
     "output_type": "stream",
     "text": [
      "After 150000 steps, Training Loss: 0.5033, Validation Loss: 0.3312\n"
     ]
    },
    {
     "name": "stderr",
     "output_type": "stream",
     "text": [
      "Training loss 0.3514:  40%|██████████████████████████████████████                                                         | 200068/500001 [08:39<11:49, 422.61it/s]"
     ]
    },
    {
     "name": "stdout",
     "output_type": "stream",
     "text": [
      "After 200000 steps, Training Loss: 0.3514, Validation Loss: 0.4205\n"
     ]
    },
    {
     "name": "stderr",
     "output_type": "stream",
     "text": [
      "Training loss 0.4542:  50%|███████████████████████████████████████████████▌                                               | 250069/500001 [10:50<09:43, 428.17it/s]"
     ]
    },
    {
     "name": "stdout",
     "output_type": "stream",
     "text": [
      "After 250000 steps, Training Loss: 0.4542, Validation Loss: 0.4334\n"
     ]
    },
    {
     "name": "stderr",
     "output_type": "stream",
     "text": [
      "Training loss 0.3967:  60%|█████████████████████████████████████████████████████████                                      | 300047/500001 [12:58<08:01, 415.31it/s]"
     ]
    },
    {
     "name": "stdout",
     "output_type": "stream",
     "text": [
      "After 300000 steps, Training Loss: 0.3967, Validation Loss: 0.4676\n"
     ]
    },
    {
     "name": "stderr",
     "output_type": "stream",
     "text": [
      "Training loss 0.4404:  70%|██████████████████████████████████████████████████████████████████▌                            | 350047/500001 [15:05<05:49, 428.74it/s]"
     ]
    },
    {
     "name": "stdout",
     "output_type": "stream",
     "text": [
      "After 350000 steps, Training Loss: 0.4404, Validation Loss: 0.4263\n"
     ]
    },
    {
     "name": "stderr",
     "output_type": "stream",
     "text": [
      "Training loss 0.4078:  80%|████████████████████████████████████████████████████████████████████████████                   | 400062/500001 [17:15<03:58, 419.03it/s]"
     ]
    },
    {
     "name": "stdout",
     "output_type": "stream",
     "text": [
      "After 400000 steps, Training Loss: 0.4078, Validation Loss: 0.4499\n"
     ]
    },
    {
     "name": "stderr",
     "output_type": "stream",
     "text": [
      "Training loss 0.4119:  90%|█████████████████████████████████████████████████████████████████████████████████████▌         | 450041/500001 [19:25<02:00, 415.09it/s]"
     ]
    },
    {
     "name": "stdout",
     "output_type": "stream",
     "text": [
      "After 450000 steps, Training Loss: 0.4119, Validation Loss: 0.3730\n"
     ]
    },
    {
     "name": "stderr",
     "output_type": "stream",
     "text": [
      "Training loss 0.4083: 100%|███████████████████████████████████████████████████████████████████████████████████████████████| 500001/500001 [21:36<00:00, 385.73it/s]\n"
     ]
    },
    {
     "name": "stdout",
     "output_type": "stream",
     "text": [
      "After 500000 steps, Training Loss: 0.4083, Validation Loss: 0.3992\n"
     ]
    },
    {
     "name": "stdout",
     "output_type": "stream",
     "text": [
      "After 1000000 steps, Training Loss: 0.4416, Validation Loss: 0.4351\n"
     ]
    }
   ],
   "source": [
    "import random\n",
    "import os\n",
    "\n",
    "def set_seed(seed=217):\n",
    "    \"\"\"Set seed for reproducibility.\"\"\"\n",
    "    random.seed(seed)  # Python random module\n",
    "    np.random.seed(seed)  # NumPy\n",
    "    torch.manual_seed(seed)  # PyTorch CPU\n",
    "    torch.cuda.manual_seed(seed)  # PyTorch GPU\n",
    "    torch.cuda.manual_seed_all(seed)  # PyTorch multi-GPU\n",
    "\n",
    "    # Ensure deterministic behavior\n",
    "    torch.backends.cudnn.deterministic = True\n",
    "    torch.backends.cudnn.benchmark = False\n",
    "\n",
    "# Set seed\n",
    "set_seed(1029)\n",
    "\n",
    "n_layers, n_head, d, dx1, dx2= 1, 3, 6, 4, 4\n",
    "config = MultiTaskConfig(n_layers=n_layers, n_head=n_head, n_out=2, d=d, method='Adam', learning_rate=0.001, training_steps= 500001, batch_size=256, \n",
    "dynamic_log_every_step=1000, qk_log_every_step=1000, optimizer_params={}, noise_std=np.sqrt(0.1), dx1=dx1, dx2=dx2)\n",
    "print(config)\n",
    "\n",
    "# Create the \"saved_models\" directory if it doesn't exist\n",
    "os.makedirs(\"saved_models\", exist_ok=True)\n",
    "# Save the model in the \"saved_models\" directory\n",
    "model_path = f\"saved_models/Multi_Task_Layer_{n_layers}_Head_{n_head}_d_{d}_trained_model.pth\"\n",
    "\n",
    "result = run_experiment(config)\n",
    "saved_result = {\n",
    "    'final_loss': result['final_loss'],\n",
    "    'training_losses': result['training_losses'],\n",
    "    'validation_losses': result['validation_losses'],\n",
    "    'qk_dynamics': result['qk_dynamics'],\n",
    "    'ov_dynamics': result['ov_dynamics'],\n",
    "    'qk_matrices': result['qk_matrices'],\n",
    "    'model': result['model'].state_dict()\n",
    "}\n",
    "torch.save(saved_result, model_path)"
   ]
  },
  {
   "cell_type": "markdown",
   "id": "887c8df2-cc14-4af6-8483-3719e9a7494c",
   "metadata": {},
   "source": [
    "## Visualization Setup\n",
    "\n",
    "### 1. QK & OV dynamics visualization\n",
    "### 2. QK & OV circuits heatmap visualization\n",
    "### 3. QK circuits evolution visualization\n",
    "### 4. QK & OV circuits Summary Statistics\n",
    "\n",
    "\n",
    "#### Computing and Printing Statistics\n",
    "1. **`w^h` (Average of First `d` Diagonal Elements of QK Matrix)**:\n",
    "   - `w^h` is computed as the mean of the first `d` diagonal elements of the `QK` matrix.\n",
    "   - This provides insight into the average \"importance\" or weight of these elements for each head.\n",
    "   \n",
    "2. **Variance of the First `d` Diagonal Elements**:\n",
    "   - The variance of the first `d` diagonal elements is computed to measure the spread or variability of these values.\n",
    "\n",
    "3. **Sup-Norm of the Rest of the QK Matrix Entries**:\n",
    "   - The sup-norm (maximum absolute value) of all non-diagonal entries in the `QK` matrix is calculated to capture the largest deviation among these entries.\n",
    "\n",
    "4. **`mu^h` (Last Entry of OV Matrix)**:\n",
    "   - `mu^h` is defined as the value of the last entry in the `OV` matrix, representing a specific element of interest in the matrix for each head.\n",
    "\n",
    "5. **Printing Structured Messages**:\n",
    "   - Structured messages are printed for each head, displaying `w^h`, its variance, the sup-norm of `QK` entries, and `mu^h`.\n",
    "   - The final output prints `mu^h` and `w^h` for each head to provide a consolidated view of these estimators."
   ]
  },
  {
   "cell_type": "code",
   "execution_count": 12,
   "id": "77e3e5bf-d320-40d0-b379-3f3bf3badf48",
   "metadata": {},
   "outputs": [],
   "source": [
    "from utils.plot_utils import *"
   ]
  },
  {
   "cell_type": "markdown",
   "id": "fdf377e2-a4b8-4a88-9937-1640c1d44390",
   "metadata": {},
   "source": [
    "#### Visualize the Result for the pretrained model above"
   ]
  },
  {
   "cell_type": "code",
   "execution_count": 13,
   "id": "cc2be429-bd9d-43d2-bc97-0d91c82a491f",
   "metadata": {},
   "outputs": [
    {
     "data": {
      "image/png": "[encoded data removed]",
      "text/plain": [
       "<Figure size 2000x500 with 4 Axes>"
      ]
     },
     "metadata": {},
     "output_type": "display_data"
    },
    {
     "data": {
      "image/png": "[encoded data removed]",
      "text/plain": [
       "<Figure size 2000x500 with 4 Axes>"
      ]
     },
     "metadata": {},
     "output_type": "display_data"
    },
    {
     "data": {
      "image/png": "[encoded data removed]",
      "text/plain": [
       "<Figure size 2000x500 with 4 Axes>"
      ]
     },
     "metadata": {},
     "output_type": "display_data"
    }
   ],
   "source": [
    "# Extract components from result\n",
    "\n",
    "config = result['config']\n",
    "QK_dynamics = result['qk_dynamics']\n",
    "OV_dynamics = result['ov_dynamics']\n",
    "QK_matrices = result['qk_matrices']\n",
    "model = result['model']\n",
    "\n",
    "dynamic_log_every_step = config.dynamic_log_every_step\n",
    "qk_log_every_step = config.qk_log_every_step\n",
    "n_layers = config.n_layers\n",
    "n_heads = config.n_head\n",
    "d = config.d\n",
    "\n",
    "\n",
    "# Plot QK and OV matrices for each layer\n",
    "plot_attn_matrices(model.state_dict(), n_layers, d, n_head, dy=2, save=False)"
   ]
  },
  {
   "cell_type": "markdown",
   "id": "8b4239c4",
   "metadata": {},
   "source": [
    "#### H = 4: Split-up Case"
   ]
  },
  {
   "cell_type": "code",
   "execution_count": 14,
   "id": "e9d572f2",
   "metadata": {},
   "outputs": [
    {
     "name": "stdout",
     "output_type": "stream",
     "text": [
      "Config(\n",
      "  n_layers: 1\n",
      "  n_head: 4\n",
      "  d: 6\n",
      "  L: 48\n",
      "  method: Adam\n",
      "  learning_rate: 0.001\n",
      "  batch_size: 256\n",
      "  noise_std: 0.31622776601683794\n",
      "  optimizer_params: {}\n",
      "  training_steps: 500001\n",
      "  dynamic_log_every_step: 1000\n",
      "  qk_log_every_step: 1000\n",
      "  loss_log_every_step: 1000\n",
      "  validation_every: 1000\n",
      "  print_loss_every: 50000\n",
      "  n_embd (d + 1): 8\n",
      ")\n",
      "Using device: cuda\n"
     ]
    },
    {
     "name": "stderr",
     "output_type": "stream",
     "text": [
      "Training loss 4.3302:   0%|                                                                                                   | 39/500001 [00:00<21:25, 388.82it/s]"
     ]
    },
    {
     "name": "stdout",
     "output_type": "stream",
     "text": [
      "After 0 steps, Training Loss: 4.3302, Validation Loss: 4.0760\n"
     ]
    },
    {
     "name": "stderr",
     "output_type": "stream",
     "text": [
      "Training loss 0.4695:  10%|█████████▌                                                                                      | 50045/500001 [02:06<26:21, 284.51it/s]"
     ]
    },
    {
     "name": "stdout",
     "output_type": "stream",
     "text": [
      "After 50000 steps, Training Loss: 0.4695, Validation Loss: 0.3377\n"
     ]
    },
    {
     "name": "stderr",
     "output_type": "stream",
     "text": [
      "Training loss 0.4641:  20%|███████████████████                                                                            | 100039/500001 [04:13<17:18, 384.95it/s]"
     ]
    },
    {
     "name": "stdout",
     "output_type": "stream",
     "text": [
      "After 100000 steps, Training Loss: 0.4641, Validation Loss: 0.4044\n"
     ]
    },
    {
     "name": "stderr",
     "output_type": "stream",
     "text": [
      "Training loss 0.4452:  30%|████████████████████████████▌                                                                  | 150048/500001 [06:24<13:59, 416.80it/s]"
     ]
    },
    {
     "name": "stdout",
     "output_type": "stream",
     "text": [
      "After 150000 steps, Training Loss: 0.4452, Validation Loss: 0.3903\n"
     ]
    },
    {
     "name": "stderr",
     "output_type": "stream",
     "text": [
      "Training loss 0.4123:  40%|██████████████████████████████████████                                                         | 200080/500001 [08:34<12:04, 414.22it/s]"
     ]
    },
    {
     "name": "stdout",
     "output_type": "stream",
     "text": [
      "After 200000 steps, Training Loss: 0.4123, Validation Loss: 0.3796\n"
     ]
    },
    {
     "name": "stderr",
     "output_type": "stream",
     "text": [
      "Training loss 0.3644:  50%|███████████████████████████████████████████████▌                                               | 250077/500001 [10:41<09:59, 416.97it/s]"
     ]
    },
    {
     "name": "stdout",
     "output_type": "stream",
     "text": [
      "After 250000 steps, Training Loss: 0.3644, Validation Loss: 0.4126\n"
     ]
    },
    {
     "name": "stderr",
     "output_type": "stream",
     "text": [
      "Training loss 0.4144:  60%|█████████████████████████████████████████████████████████                                      | 300054/500001 [12:55<08:01, 415.64it/s]"
     ]
    },
    {
     "name": "stdout",
     "output_type": "stream",
     "text": [
      "After 300000 steps, Training Loss: 0.4144, Validation Loss: 0.4185\n"
     ]
    },
    {
     "name": "stderr",
     "output_type": "stream",
     "text": [
      "Training loss 0.3995:  70%|██████████████████████████████████████████████████████████████████▌                            | 350064/500001 [15:02<05:50, 427.59it/s]"
     ]
    },
    {
     "name": "stdout",
     "output_type": "stream",
     "text": [
      "After 350000 steps, Training Loss: 0.3995, Validation Loss: 0.4113\n"
     ]
    },
    {
     "name": "stderr",
     "output_type": "stream",
     "text": [
      "Training loss 0.4032:  80%|████████████████████████████████████████████████████████████████████████████                   | 400048/500001 [17:14<04:45, 350.31it/s]"
     ]
    },
    {
     "name": "stdout",
     "output_type": "stream",
     "text": [
      "After 400000 steps, Training Loss: 0.4032, Validation Loss: 0.4505\n"
     ]
    },
    {
     "name": "stderr",
     "output_type": "stream",
     "text": [
      "Training loss 0.4863:  90%|█████████████████████████████████████████████████████████████████████████████████████▌         | 450072/500001 [19:24<02:06, 394.66it/s]"
     ]
    },
    {
     "name": "stdout",
     "output_type": "stream",
     "text": [
      "After 450000 steps, Training Loss: 0.4863, Validation Loss: 0.3879\n"
     ]
    },
    {
     "name": "stderr",
     "output_type": "stream",
     "text": [
      "Training loss 0.3485: 100%|███████████████████████████████████████████████████████████████████████████████████████████████| 500001/500001 [21:37<00:00, 385.40it/s]\n"
     ]
    },
    {
     "name": "stdout",
     "output_type": "stream",
     "text": [
      "After 500000 steps, Training Loss: 0.3485, Validation Loss: 0.4365\n"
     ]
    },
    {
     "data": {
      "image/png": "[encoded data removed]",
      "text/plain": [
       "<Figure size 2000x500 with 4 Axes>"
      ]
     },
     "metadata": {},
     "output_type": "display_data"
    },
    {
     "data": {
      "image/png": "[encoded data removed]",
      "text/plain": [
       "<Figure size 2000x500 with 4 Axes>"
      ]
     },
     "metadata": {},
     "output_type": "display_data"
    },
    {
     "data": {
      "image/png": "[encoded data removed]",
      "text/plain": [
       "<Figure size 2000x500 with 4 Axes>"
      ]
     },
     "metadata": {},
     "output_type": "display_data"
    },
    {
     "data": {
      "image/png": "[encoded data removed]",
      "text/plain": [
       "<Figure size 2000x500 with 4 Axes>"
      ]
     },
     "metadata": {},
     "output_type": "display_data"
    }
   ],
   "source": [
    "set_seed(1029)\n",
    "\n",
    "n_layers, n_head, d, dx1, dx2= 1, 4, 6, 4, 4\n",
    "config = MultiTaskConfig(n_layers=n_layers, n_head=n_head, n_out=2, d=d, method='Adam', learning_rate=0.001, training_steps= 500001, batch_size=256, \n",
    "dynamic_log_every_step=1000, qk_log_every_step=1000, optimizer_params={}, noise_std=np.sqrt(0.1), dx1=dx1, dx2=dx2)\n",
    "print(config)\n",
    "\n",
    "# Create the \"saved_models\" directory if it doesn't exist\n",
    "os.makedirs(\"saved_models\", exist_ok=True)\n",
    "# Save the model in the \"saved_models\" directory\n",
    "model_path = f\"saved_models/Multi_Task_Layer_{n_layers}_Head_{n_head}_d_{d}_trained_model.pth\"\n",
    "\n",
    "result = run_experiment(config)\n",
    "saved_result = {\n",
    "    'final_loss': result['final_loss'],\n",
    "    'training_losses': result['training_losses'],\n",
    "    'validation_losses': result['validation_losses'],\n",
    "    'qk_dynamics': result['qk_dynamics'],\n",
    "    'ov_dynamics': result['ov_dynamics'],\n",
    "    'qk_matrices': result['qk_matrices'],\n",
    "    'model': result['model'].state_dict()\n",
    "}\n",
    "torch.save(saved_result, model_path)\n",
    "\n",
    "# Extract components from result\n",
    "config = result['config']\n",
    "QK_dynamics = result['qk_dynamics']\n",
    "OV_dynamics = result['ov_dynamics']\n",
    "QK_matrices = result['qk_matrices']\n",
    "model = result['model']\n",
    "\n",
    "dynamic_log_every_step = config.dynamic_log_every_step\n",
    "qk_log_every_step = config.qk_log_every_step\n",
    "n_layers = config.n_layers\n",
    "n_heads = config.n_head\n",
    "d = config.d\n",
    "\n",
    "\n",
    "# Plot QK and OV matrices for each layer\n",
    "plot_attn_matrices(model.state_dict(), n_layers, d, n_head, dy=2)"
   ]
  }
 ],
 "metadata": {
  "kernelspec": {
   "display_name": "Python 3 (ipykernel)",
   "language": "python",
   "name": "python3"
  },
  "language_info": {
   "codemirror_mode": {
    "name": "ipython",
    "version": 3
   },
   "file_extension": ".py",
   "mimetype": "text/x-python",
   "name": "python",
   "nbconvert_exporter": "python",
   "pygments_lexer": "ipython3",
   "version": "3.8.12"
  }
 },
 "nbformat": 4,
 "nbformat_minor": 5
}
